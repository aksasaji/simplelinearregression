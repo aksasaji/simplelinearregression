{
  "nbformat": 4,
  "nbformat_minor": 0,
  "metadata": {
    "colab": {
      "provenance": [],
      "mount_file_id": "1JQlGqwUMzu98tfCGO5NNIgC9sO8CBYzD",
      "authorship_tag": "ABX9TyOdEgGIOWx/Ce0ilQeaiKbP",
      "include_colab_link": true
    },
    "kernelspec": {
      "name": "python3",
      "display_name": "Python 3"
    },
    "language_info": {
      "name": "python"
    }
  },
  "cells": [
    {
      "cell_type": "markdown",
      "metadata": {
        "id": "view-in-github",
        "colab_type": "text"
      },
      "source": [
        "<a href=\"https://colab.research.google.com/github/aksasaji/simplelinearregression/blob/main/placementsimplelinear.ipynb\" target=\"_parent\"><img src=\"https://colab.research.google.com/assets/colab-badge.svg\" alt=\"Open In Colab\"/></a>"
      ]
    },
    {
      "cell_type": "code",
      "execution_count": 4,
      "metadata": {
        "colab": {
          "base_uri": "https://localhost:8080/",
          "height": 424
        },
        "id": "Il8875aHS5rw",
        "outputId": "529ef38f-0a21-4128-c57f-20b133e00599"
      },
      "outputs": [
        {
          "output_type": "execute_result",
          "data": {
            "text/plain": [
              "     cgpa  placement_exam_marks  placed\n",
              "0    7.19                  26.0       1\n",
              "1    7.46                  38.0       1\n",
              "2    7.54                  40.0       1\n",
              "3    6.42                   8.0       1\n",
              "4    7.23                  17.0       0\n",
              "..    ...                   ...     ...\n",
              "995  8.87                  44.0       1\n",
              "996  9.12                  65.0       1\n",
              "997  4.89                  34.0       0\n",
              "998  8.62                  46.0       1\n",
              "999  4.90                  10.0       1\n",
              "\n",
              "[1000 rows x 3 columns]"
            ],
            "text/html": [
              "\n",
              "  <div id=\"df-e955d190-93d5-47d6-b085-b7c581424777\">\n",
              "    <div class=\"colab-df-container\">\n",
              "      <div>\n",
              "<style scoped>\n",
              "    .dataframe tbody tr th:only-of-type {\n",
              "        vertical-align: middle;\n",
              "    }\n",
              "\n",
              "    .dataframe tbody tr th {\n",
              "        vertical-align: top;\n",
              "    }\n",
              "\n",
              "    .dataframe thead th {\n",
              "        text-align: right;\n",
              "    }\n",
              "</style>\n",
              "<table border=\"1\" class=\"dataframe\">\n",
              "  <thead>\n",
              "    <tr style=\"text-align: right;\">\n",
              "      <th></th>\n",
              "      <th>cgpa</th>\n",
              "      <th>placement_exam_marks</th>\n",
              "      <th>placed</th>\n",
              "    </tr>\n",
              "  </thead>\n",
              "  <tbody>\n",
              "    <tr>\n",
              "      <th>0</th>\n",
              "      <td>7.19</td>\n",
              "      <td>26.0</td>\n",
              "      <td>1</td>\n",
              "    </tr>\n",
              "    <tr>\n",
              "      <th>1</th>\n",
              "      <td>7.46</td>\n",
              "      <td>38.0</td>\n",
              "      <td>1</td>\n",
              "    </tr>\n",
              "    <tr>\n",
              "      <th>2</th>\n",
              "      <td>7.54</td>\n",
              "      <td>40.0</td>\n",
              "      <td>1</td>\n",
              "    </tr>\n",
              "    <tr>\n",
              "      <th>3</th>\n",
              "      <td>6.42</td>\n",
              "      <td>8.0</td>\n",
              "      <td>1</td>\n",
              "    </tr>\n",
              "    <tr>\n",
              "      <th>4</th>\n",
              "      <td>7.23</td>\n",
              "      <td>17.0</td>\n",
              "      <td>0</td>\n",
              "    </tr>\n",
              "    <tr>\n",
              "      <th>...</th>\n",
              "      <td>...</td>\n",
              "      <td>...</td>\n",
              "      <td>...</td>\n",
              "    </tr>\n",
              "    <tr>\n",
              "      <th>995</th>\n",
              "      <td>8.87</td>\n",
              "      <td>44.0</td>\n",
              "      <td>1</td>\n",
              "    </tr>\n",
              "    <tr>\n",
              "      <th>996</th>\n",
              "      <td>9.12</td>\n",
              "      <td>65.0</td>\n",
              "      <td>1</td>\n",
              "    </tr>\n",
              "    <tr>\n",
              "      <th>997</th>\n",
              "      <td>4.89</td>\n",
              "      <td>34.0</td>\n",
              "      <td>0</td>\n",
              "    </tr>\n",
              "    <tr>\n",
              "      <th>998</th>\n",
              "      <td>8.62</td>\n",
              "      <td>46.0</td>\n",
              "      <td>1</td>\n",
              "    </tr>\n",
              "    <tr>\n",
              "      <th>999</th>\n",
              "      <td>4.90</td>\n",
              "      <td>10.0</td>\n",
              "      <td>1</td>\n",
              "    </tr>\n",
              "  </tbody>\n",
              "</table>\n",
              "<p>1000 rows × 3 columns</p>\n",
              "</div>\n",
              "      <button class=\"colab-df-convert\" onclick=\"convertToInteractive('df-e955d190-93d5-47d6-b085-b7c581424777')\"\n",
              "              title=\"Convert this dataframe to an interactive table.\"\n",
              "              style=\"display:none;\">\n",
              "        \n",
              "  <svg xmlns=\"http://www.w3.org/2000/svg\" height=\"24px\"viewBox=\"0 0 24 24\"\n",
              "       width=\"24px\">\n",
              "    <path d=\"M0 0h24v24H0V0z\" fill=\"none\"/>\n",
              "    <path d=\"M18.56 5.44l.94 2.06.94-2.06 2.06-.94-2.06-.94-.94-2.06-.94 2.06-2.06.94zm-11 1L8.5 8.5l.94-2.06 2.06-.94-2.06-.94L8.5 2.5l-.94 2.06-2.06.94zm10 10l.94 2.06.94-2.06 2.06-.94-2.06-.94-.94-2.06-.94 2.06-2.06.94z\"/><path d=\"M17.41 7.96l-1.37-1.37c-.4-.4-.92-.59-1.43-.59-.52 0-1.04.2-1.43.59L10.3 9.45l-7.72 7.72c-.78.78-.78 2.05 0 2.83L4 21.41c.39.39.9.59 1.41.59.51 0 1.02-.2 1.41-.59l7.78-7.78 2.81-2.81c.8-.78.8-2.07 0-2.86zM5.41 20L4 18.59l7.72-7.72 1.47 1.35L5.41 20z\"/>\n",
              "  </svg>\n",
              "      </button>\n",
              "      \n",
              "  <style>\n",
              "    .colab-df-container {\n",
              "      display:flex;\n",
              "      flex-wrap:wrap;\n",
              "      gap: 12px;\n",
              "    }\n",
              "\n",
              "    .colab-df-convert {\n",
              "      background-color: #E8F0FE;\n",
              "      border: none;\n",
              "      border-radius: 50%;\n",
              "      cursor: pointer;\n",
              "      display: none;\n",
              "      fill: #1967D2;\n",
              "      height: 32px;\n",
              "      padding: 0 0 0 0;\n",
              "      width: 32px;\n",
              "    }\n",
              "\n",
              "    .colab-df-convert:hover {\n",
              "      background-color: #E2EBFA;\n",
              "      box-shadow: 0px 1px 2px rgba(60, 64, 67, 0.3), 0px 1px 3px 1px rgba(60, 64, 67, 0.15);\n",
              "      fill: #174EA6;\n",
              "    }\n",
              "\n",
              "    [theme=dark] .colab-df-convert {\n",
              "      background-color: #3B4455;\n",
              "      fill: #D2E3FC;\n",
              "    }\n",
              "\n",
              "    [theme=dark] .colab-df-convert:hover {\n",
              "      background-color: #434B5C;\n",
              "      box-shadow: 0px 1px 3px 1px rgba(0, 0, 0, 0.15);\n",
              "      filter: drop-shadow(0px 1px 2px rgba(0, 0, 0, 0.3));\n",
              "      fill: #FFFFFF;\n",
              "    }\n",
              "  </style>\n",
              "\n",
              "      <script>\n",
              "        const buttonEl =\n",
              "          document.querySelector('#df-e955d190-93d5-47d6-b085-b7c581424777 button.colab-df-convert');\n",
              "        buttonEl.style.display =\n",
              "          google.colab.kernel.accessAllowed ? 'block' : 'none';\n",
              "\n",
              "        async function convertToInteractive(key) {\n",
              "          const element = document.querySelector('#df-e955d190-93d5-47d6-b085-b7c581424777');\n",
              "          const dataTable =\n",
              "            await google.colab.kernel.invokeFunction('convertToInteractive',\n",
              "                                                     [key], {});\n",
              "          if (!dataTable) return;\n",
              "\n",
              "          const docLinkHtml = 'Like what you see? Visit the ' +\n",
              "            '<a target=\"_blank\" href=https://colab.research.google.com/notebooks/data_table.ipynb>data table notebook</a>'\n",
              "            + ' to learn more about interactive tables.';\n",
              "          element.innerHTML = '';\n",
              "          dataTable['output_type'] = 'display_data';\n",
              "          await google.colab.output.renderOutput(dataTable, element);\n",
              "          const docLink = document.createElement('div');\n",
              "          docLink.innerHTML = docLinkHtml;\n",
              "          element.appendChild(docLink);\n",
              "        }\n",
              "      </script>\n",
              "    </div>\n",
              "  </div>\n",
              "  "
            ]
          },
          "metadata": {},
          "execution_count": 4
        }
      ],
      "source": [
        "import pandas as pd\n",
        "df=pd.read_csv('/content/drive/MyDrive/dataset/placement.csv')\n",
        "df"
      ]
    },
    {
      "cell_type": "code",
      "source": [
        "df.isna().sum()"
      ],
      "metadata": {
        "colab": {
          "base_uri": "https://localhost:8080/"
        },
        "id": "r-HFogdeUR1A",
        "outputId": "ea366a9e-c10f-40eb-cfe4-c16bac4b6eb6"
      },
      "execution_count": 8,
      "outputs": [
        {
          "output_type": "execute_result",
          "data": {
            "text/plain": [
              "cgpa                    0\n",
              "placement_exam_marks    0\n",
              "placed                  0\n",
              "dtype: int64"
            ]
          },
          "metadata": {},
          "execution_count": 8
        }
      ]
    },
    {
      "cell_type": "code",
      "source": [
        "df.dtypes"
      ],
      "metadata": {
        "colab": {
          "base_uri": "https://localhost:8080/"
        },
        "id": "Y3z0Sw7JUPun",
        "outputId": "553d24d8-1b13-40c4-8db2-9dfc6905186b"
      },
      "execution_count": 7,
      "outputs": [
        {
          "output_type": "execute_result",
          "data": {
            "text/plain": [
              "cgpa                    float64\n",
              "placement_exam_marks    float64\n",
              "placed                    int64\n",
              "dtype: object"
            ]
          },
          "metadata": {},
          "execution_count": 7
        }
      ]
    },
    {
      "cell_type": "code",
      "source": [
        "X=df.iloc[:,:-2]   #2D dimensional value\n",
        "X"
      ],
      "metadata": {
        "colab": {
          "base_uri": "https://localhost:8080/",
          "height": 424
        },
        "id": "Zjuay548Tl-0",
        "outputId": "fb0a8abd-7f6a-44f3-d8c8-34fec2e89b3d"
      },
      "execution_count": 6,
      "outputs": [
        {
          "output_type": "execute_result",
          "data": {
            "text/plain": [
              "     cgpa\n",
              "0    7.19\n",
              "1    7.46\n",
              "2    7.54\n",
              "3    6.42\n",
              "4    7.23\n",
              "..    ...\n",
              "995  8.87\n",
              "996  9.12\n",
              "997  4.89\n",
              "998  8.62\n",
              "999  4.90\n",
              "\n",
              "[1000 rows x 1 columns]"
            ],
            "text/html": [
              "\n",
              "  <div id=\"df-ac72f53d-2d62-4ef8-8149-42ee48a77ea8\">\n",
              "    <div class=\"colab-df-container\">\n",
              "      <div>\n",
              "<style scoped>\n",
              "    .dataframe tbody tr th:only-of-type {\n",
              "        vertical-align: middle;\n",
              "    }\n",
              "\n",
              "    .dataframe tbody tr th {\n",
              "        vertical-align: top;\n",
              "    }\n",
              "\n",
              "    .dataframe thead th {\n",
              "        text-align: right;\n",
              "    }\n",
              "</style>\n",
              "<table border=\"1\" class=\"dataframe\">\n",
              "  <thead>\n",
              "    <tr style=\"text-align: right;\">\n",
              "      <th></th>\n",
              "      <th>cgpa</th>\n",
              "    </tr>\n",
              "  </thead>\n",
              "  <tbody>\n",
              "    <tr>\n",
              "      <th>0</th>\n",
              "      <td>7.19</td>\n",
              "    </tr>\n",
              "    <tr>\n",
              "      <th>1</th>\n",
              "      <td>7.46</td>\n",
              "    </tr>\n",
              "    <tr>\n",
              "      <th>2</th>\n",
              "      <td>7.54</td>\n",
              "    </tr>\n",
              "    <tr>\n",
              "      <th>3</th>\n",
              "      <td>6.42</td>\n",
              "    </tr>\n",
              "    <tr>\n",
              "      <th>4</th>\n",
              "      <td>7.23</td>\n",
              "    </tr>\n",
              "    <tr>\n",
              "      <th>...</th>\n",
              "      <td>...</td>\n",
              "    </tr>\n",
              "    <tr>\n",
              "      <th>995</th>\n",
              "      <td>8.87</td>\n",
              "    </tr>\n",
              "    <tr>\n",
              "      <th>996</th>\n",
              "      <td>9.12</td>\n",
              "    </tr>\n",
              "    <tr>\n",
              "      <th>997</th>\n",
              "      <td>4.89</td>\n",
              "    </tr>\n",
              "    <tr>\n",
              "      <th>998</th>\n",
              "      <td>8.62</td>\n",
              "    </tr>\n",
              "    <tr>\n",
              "      <th>999</th>\n",
              "      <td>4.90</td>\n",
              "    </tr>\n",
              "  </tbody>\n",
              "</table>\n",
              "<p>1000 rows × 1 columns</p>\n",
              "</div>\n",
              "      <button class=\"colab-df-convert\" onclick=\"convertToInteractive('df-ac72f53d-2d62-4ef8-8149-42ee48a77ea8')\"\n",
              "              title=\"Convert this dataframe to an interactive table.\"\n",
              "              style=\"display:none;\">\n",
              "        \n",
              "  <svg xmlns=\"http://www.w3.org/2000/svg\" height=\"24px\"viewBox=\"0 0 24 24\"\n",
              "       width=\"24px\">\n",
              "    <path d=\"M0 0h24v24H0V0z\" fill=\"none\"/>\n",
              "    <path d=\"M18.56 5.44l.94 2.06.94-2.06 2.06-.94-2.06-.94-.94-2.06-.94 2.06-2.06.94zm-11 1L8.5 8.5l.94-2.06 2.06-.94-2.06-.94L8.5 2.5l-.94 2.06-2.06.94zm10 10l.94 2.06.94-2.06 2.06-.94-2.06-.94-.94-2.06-.94 2.06-2.06.94z\"/><path d=\"M17.41 7.96l-1.37-1.37c-.4-.4-.92-.59-1.43-.59-.52 0-1.04.2-1.43.59L10.3 9.45l-7.72 7.72c-.78.78-.78 2.05 0 2.83L4 21.41c.39.39.9.59 1.41.59.51 0 1.02-.2 1.41-.59l7.78-7.78 2.81-2.81c.8-.78.8-2.07 0-2.86zM5.41 20L4 18.59l7.72-7.72 1.47 1.35L5.41 20z\"/>\n",
              "  </svg>\n",
              "      </button>\n",
              "      \n",
              "  <style>\n",
              "    .colab-df-container {\n",
              "      display:flex;\n",
              "      flex-wrap:wrap;\n",
              "      gap: 12px;\n",
              "    }\n",
              "\n",
              "    .colab-df-convert {\n",
              "      background-color: #E8F0FE;\n",
              "      border: none;\n",
              "      border-radius: 50%;\n",
              "      cursor: pointer;\n",
              "      display: none;\n",
              "      fill: #1967D2;\n",
              "      height: 32px;\n",
              "      padding: 0 0 0 0;\n",
              "      width: 32px;\n",
              "    }\n",
              "\n",
              "    .colab-df-convert:hover {\n",
              "      background-color: #E2EBFA;\n",
              "      box-shadow: 0px 1px 2px rgba(60, 64, 67, 0.3), 0px 1px 3px 1px rgba(60, 64, 67, 0.15);\n",
              "      fill: #174EA6;\n",
              "    }\n",
              "\n",
              "    [theme=dark] .colab-df-convert {\n",
              "      background-color: #3B4455;\n",
              "      fill: #D2E3FC;\n",
              "    }\n",
              "\n",
              "    [theme=dark] .colab-df-convert:hover {\n",
              "      background-color: #434B5C;\n",
              "      box-shadow: 0px 1px 3px 1px rgba(0, 0, 0, 0.15);\n",
              "      filter: drop-shadow(0px 1px 2px rgba(0, 0, 0, 0.3));\n",
              "      fill: #FFFFFF;\n",
              "    }\n",
              "  </style>\n",
              "\n",
              "      <script>\n",
              "        const buttonEl =\n",
              "          document.querySelector('#df-ac72f53d-2d62-4ef8-8149-42ee48a77ea8 button.colab-df-convert');\n",
              "        buttonEl.style.display =\n",
              "          google.colab.kernel.accessAllowed ? 'block' : 'none';\n",
              "\n",
              "        async function convertToInteractive(key) {\n",
              "          const element = document.querySelector('#df-ac72f53d-2d62-4ef8-8149-42ee48a77ea8');\n",
              "          const dataTable =\n",
              "            await google.colab.kernel.invokeFunction('convertToInteractive',\n",
              "                                                     [key], {});\n",
              "          if (!dataTable) return;\n",
              "\n",
              "          const docLinkHtml = 'Like what you see? Visit the ' +\n",
              "            '<a target=\"_blank\" href=https://colab.research.google.com/notebooks/data_table.ipynb>data table notebook</a>'\n",
              "            + ' to learn more about interactive tables.';\n",
              "          element.innerHTML = '';\n",
              "          dataTable['output_type'] = 'display_data';\n",
              "          await google.colab.output.renderOutput(dataTable, element);\n",
              "          const docLink = document.createElement('div');\n",
              "          docLink.innerHTML = docLinkHtml;\n",
              "          element.appendChild(docLink);\n",
              "        }\n",
              "      </script>\n",
              "    </div>\n",
              "  </div>\n",
              "  "
            ]
          },
          "metadata": {},
          "execution_count": 6
        }
      ]
    },
    {
      "cell_type": "code",
      "source": [
        "y=df.iloc[:,1]\n",
        "y"
      ],
      "metadata": {
        "colab": {
          "base_uri": "https://localhost:8080/"
        },
        "id": "qHUFRH0FUX59",
        "outputId": "f2972e99-c7a7-48ad-e35a-4a8d82fac93e"
      },
      "execution_count": 10,
      "outputs": [
        {
          "output_type": "execute_result",
          "data": {
            "text/plain": [
              "0      26.0\n",
              "1      38.0\n",
              "2      40.0\n",
              "3       8.0\n",
              "4      17.0\n",
              "       ... \n",
              "995    44.0\n",
              "996    65.0\n",
              "997    34.0\n",
              "998    46.0\n",
              "999    10.0\n",
              "Name: placement_exam_marks, Length: 1000, dtype: float64"
            ]
          },
          "metadata": {},
          "execution_count": 10
        }
      ]
    },
    {
      "cell_type": "code",
      "source": [
        "import seaborn as sns\n",
        "sns.regplot(X,y)"
      ],
      "metadata": {
        "colab": {
          "base_uri": "https://localhost:8080/",
          "height": 351
        },
        "id": "FbMdZHdWUhZT",
        "outputId": "c78c609d-620e-499f-b6e1-e9c55b952a0b"
      },
      "execution_count": 11,
      "outputs": [
        {
          "output_type": "stream",
          "name": "stderr",
          "text": [
            "/usr/local/lib/python3.8/dist-packages/seaborn/_decorators.py:36: FutureWarning: Pass the following variables as keyword args: x, y. From version 0.12, the only valid positional argument will be `data`, and passing other arguments without an explicit keyword will result in an error or misinterpretation.\n",
            "  warnings.warn(\n"
          ]
        },
        {
          "output_type": "execute_result",
          "data": {
            "text/plain": [
              "<AxesSubplot:xlabel='cgpa', ylabel='placement_exam_marks'>"
            ]
          },
          "metadata": {},
          "execution_count": 11
        },
        {
          "output_type": "display_data",
          "data": {
            "text/plain": [
              "<Figure size 432x288 with 1 Axes>"
            ],
            "image/png": "[encoded data removed]"
          },
          "metadata": {
            "needs_background": "light"
          }
        }
      ]
    },
    {
      "cell_type": "code",
      "source": [
        "from sklearn.model_selection import train_test_split\n",
        "X_train,X_test,y_train,y_test=train_test_split(X,y,random_state=3,test_size=0.3)"
      ],
      "metadata": {
        "id": "A2pMxiADU4jZ"
      },
      "execution_count": 12,
      "outputs": []
    },
    {
      "cell_type": "code",
      "source": [
        "from sklearn.linear_model import LinearRegression\n",
        "lr=LinearRegression()\n",
        "lr.fit(X_train,y_train)\n",
        "y_pred=lr.predict(X_test)\n",
        "y_pred"
      ],
      "metadata": {
        "colab": {
          "base_uri": "https://localhost:8080/"
        },
        "id": "mDuEwEuoWLAK",
        "outputId": "1bde3a62-0ad1-4066-c74e-391e3786a252"
      },
      "execution_count": 13,
      "outputs": [
        {
          "output_type": "execute_result",
          "data": {
            "text/plain": [
              "array([31.18879481, 32.59308087, 32.87393808, 31.77604171, 32.86117185,\n",
              "       30.86963889, 31.55901568, 32.40158732, 31.67391181, 32.4654185 ,\n",
              "       31.86540537, 32.63137958, 31.40582084, 33.24415895, 32.09519763,\n",
              "       33.33352261, 31.85263913, 33.10373035, 31.3930546 , 31.89093784,\n",
              "       31.46965202, 32.63137958, 32.38882108, 32.59308087, 32.5675484 ,\n",
              "       32.5675484 , 32.37605484, 32.12073011, 31.77604171, 31.66114558,\n",
              "       32.08243139, 31.55901568, 35.00589965, 31.59731439, 33.47395122,\n",
              "       31.35475589, 31.91647031, 32.00583397, 33.1547953 , 32.9505355 ,\n",
              "       32.18456129, 33.56331488, 31.3930546 , 32.65691206, 33.28245766,\n",
              "       33.81863962, 32.45265227, 32.69521077, 33.11649658, 33.2952239 ,\n",
              "       31.54624944, 32.06966516, 31.02283373, 32.01860021, 32.66967829,\n",
              "       31.95476903, 33.32075638, 31.83987289, 32.03136645, 31.27815847,\n",
              "       32.03136645, 32.23562624, 32.92500303, 33.23139272, 31.80157418,\n",
              "       33.20586024, 32.55478216, 32.29945742, 32.08243139, 31.252626  ,\n",
              "       32.00583397, 31.67391181, 32.18456129, 32.96330174, 31.8781716 ,\n",
              "       32.42711979, 33.03989916, 33.2952239 , 32.64414582, 31.71221052,\n",
              "       32.78457443, 33.44841874, 31.737743  , 32.60584711, 32.17179505,\n",
              "       31.90370408, 31.78880795, 32.707977  , 32.88670432, 31.77604171,\n",
              "       33.3973538 , 33.57608111, 33.38458756, 32.15902882, 31.27815847,\n",
              "       33.71650972, 32.58031463, 32.55478216, 33.03989916, 32.74627571,\n",
              "       34.16332801, 32.08243139, 33.25692519, 32.65691206, 31.99306774,\n",
              "       34.06119812, 32.98883422, 31.737743  , 33.10373035, 32.96330174,\n",
              "       32.36328861, 31.13772986, 31.8781716 , 31.4951845 , 33.43565251,\n",
              "       32.51648345, 32.79734066, 32.19732753, 32.14626258, 32.23562624,\n",
              "       33.60161359, 32.28669119, 33.95906822, 32.64414582, 32.69521077,\n",
              "       33.16756153, 32.03136645, 31.78880795, 32.10796387, 31.59731439,\n",
              "       30.8058077 , 32.74627571, 32.15902882, 32.74627571, 33.06543164,\n",
              "       32.22286   , 32.4654185 , 32.5675484 , 33.43565251, 32.74627571,\n",
              "       32.49095098, 32.08243139, 31.81434042, 31.11219739, 32.98883422,\n",
              "       31.90370408, 32.00583397, 31.91647031, 31.07389868, 32.14626258,\n",
              "       33.06543164, 31.96753526, 32.49095098, 32.12073011, 32.45265227,\n",
              "       32.52924969, 33.24415895, 32.93776927, 31.34198965, 32.4654185 ,\n",
              "       32.84840561, 32.63137958, 33.00160045, 33.67821101, 32.79734066,\n",
              "       32.10796387, 32.14626258, 33.34628885, 33.2952239 , 32.55478216,\n",
              "       32.707977  , 32.42711979, 31.94200279, 32.35052237, 34.34205533,\n",
              "       32.42711979, 32.06966516, 35.01866589, 33.06543164, 33.5377824 ,\n",
              "       33.10373035, 33.03989916, 32.66967829, 32.82287314, 30.98453502,\n",
              "       31.58454816, 31.13772986, 32.84840561, 32.66967829, 33.95906822,\n",
              "       32.17179505, 32.35052237, 32.65691206, 30.5632492 , 32.17179505,\n",
              "       33.23139272, 31.4951845 , 31.62284687, 33.26969143, 31.30369094,\n",
              "       30.79304147, 32.03136645, 32.74627571, 31.4951845 , 33.19309401,\n",
              "       32.22286   , 31.68667805, 30.9079376 , 32.73350948, 33.70374348,\n",
              "       31.92923655, 31.94200279, 32.03136645, 31.90370408, 33.28245766,\n",
              "       31.34198965, 31.86540537, 32.00583397, 31.45688579, 30.33345694,\n",
              "       31.34198965, 32.52924969, 31.91647031, 32.17179505, 32.43988603,\n",
              "       32.28669119, 34.2271592 , 33.37182132, 31.78880795, 33.35905509,\n",
              "       33.99736693, 32.4654185 , 32.4654185 , 32.98883422, 33.12926282,\n",
              "       31.90370408, 32.92500303, 32.33775613, 33.18032777, 31.90370408,\n",
              "       32.87393808, 32.17179505, 31.6356131 , 32.65691206, 31.9803015 ,\n",
              "       32.64414582, 32.15902882, 32.89947056, 32.15902882, 30.89517136,\n",
              "       32.28669119, 32.21009376, 32.14626258, 32.36328861, 31.252626  ,\n",
              "       32.01860021, 31.85263913, 31.52071697, 33.19309401, 33.14202906,\n",
              "       31.77604171, 32.68244453, 32.61861335, 32.98883422, 32.77180819,\n",
              "       32.38882108, 33.2952239 , 32.72074324, 33.7803409 , 32.49095098,\n",
              "       32.72074324, 31.9803015 , 31.48241826, 32.55478216, 32.03136645,\n",
              "       31.8781716 , 31.91647031, 32.03136645, 31.92923655, 31.41858708,\n",
              "       31.96753526, 32.23562624, 31.16326234, 31.40582084, 32.86117185,\n",
              "       33.9846007 , 32.10796387, 32.47818474, 31.86540537, 31.18879481,\n",
              "       32.66967829, 32.707977  , 32.38882108, 31.50795073, 31.90370408,\n",
              "       33.02713293, 32.28669119, 30.4228206 , 32.69521077, 32.36328861])"
            ]
          },
          "metadata": {},
          "execution_count": 13
        }
      ]
    },
    {
      "cell_type": "code",
      "source": [
        "y_test.values"
      ],
      "metadata": {
        "colab": {
          "base_uri": "https://localhost:8080/"
        },
        "id": "4T6DHLoMWlY7",
        "outputId": "0456fbfa-f8d5-40a0-b9d3-6e16e1acdfaa"
      },
      "execution_count": 15,
      "outputs": [
        {
          "output_type": "execute_result",
          "data": {
            "text/plain": [
              "array([39., 14., 11., 25., 15., 20., 43., 26., 55., 14., 15., 12., 42.,\n",
              "       18., 29., 37., 35., 22., 50., 43., 26., 25., 43., 24., 55., 23.,\n",
              "       19., 59., 52., 47., 15., 65., 10.,  9., 16., 10., 14., 74.,  8.,\n",
              "       12., 13., 28., 30.,  2., 49., 68., 38., 44., 15., 38., 40., 54.,\n",
              "        6., 47., 22., 23., 40., 20., 54., 28., 19., 81., 46., 42., 78.,\n",
              "       14., 13., 55., 23., 12.,  7., 86.,  4., 28., 14., 10., 18., 28.,\n",
              "       27., 47., 90., 17., 23., 55., 44., 21., 26., 15., 96., 11., 10.,\n",
              "       60., 39., 16., 35., 27., 16., 16., 24., 18., 10., 34., 28., 52.,\n",
              "       16., 37., 63., 16., 12., 17., 11., 25., 55., 12.,  7., 23., 32.,\n",
              "       26., 17., 18., 33., 19., 47., 18., 16., 17.,  9.,  6., 49., 26.,\n",
              "       33., 10., 13., 38., 31., 28., 71., 14., 19., 17., 48., 22., 28.,\n",
              "       21., 26., 32., 17., 18.,  6., 21., 43., 15., 46., 37., 54., 32.,\n",
              "       37., 22., 66., 35., 21., 24., 16., 10.,  9., 54., 18., 30., 24.,\n",
              "       47., 38., 24., 23., 52., 36., 10., 52., 34.,  8., 45., 15., 31.,\n",
              "       21., 54., 41., 66.,  9., 42., 70., 37., 33., 11., 20., 87., 34.,\n",
              "       34., 41., 16., 12., 24., 12., 21., 15., 49., 33., 29., 25., 50.,\n",
              "       16., 22., 86., 15., 17., 31., 52., 49., 14., 21., 31., 22., 34.,\n",
              "       15., 36.,  9., 38., 42., 58., 36., 60., 38., 53., 53., 16., 33.,\n",
              "       46., 14., 19., 97., 93., 36., 39., 51., 23., 22., 16., 22., 35.,\n",
              "       35., 47., 16.,  6., 46., 52., 25.,  5., 34., 79., 43., 31., 61.,\n",
              "       14., 12., 42., 63., 24., 23., 39., 10., 46., 42., 18., 25., 44.,\n",
              "       16., 49., 56., 61., 15., 61., 18., 42., 21., 50., 37., 20., 79.,\n",
              "       11., 35., 37.,  9., 23., 22., 13., 27., 52., 16., 76., 40., 26.,\n",
              "       63.])"
            ]
          },
          "metadata": {},
          "execution_count": 15
        }
      ]
    },
    {
      "cell_type": "code",
      "source": [
        "result=pd.DataFrame({'Actual':y_pred,'Predicted':y_pred})\n",
        "result"
      ],
      "metadata": {
        "colab": {
          "base_uri": "https://localhost:8080/",
          "height": 424
        },
        "id": "g3JsBZ5XZaRr",
        "outputId": "a09a411b-c523-4e6a-e9a6-9c7d3438bcc1"
      },
      "execution_count": 16,
      "outputs": [
        {
          "output_type": "execute_result",
          "data": {
            "text/plain": [
              "        Actual  Predicted\n",
              "0    31.188795  31.188795\n",
              "1    32.593081  32.593081\n",
              "2    32.873938  32.873938\n",
              "3    31.776042  31.776042\n",
              "4    32.861172  32.861172\n",
              "..         ...        ...\n",
              "295  33.027133  33.027133\n",
              "296  32.286691  32.286691\n",
              "297  30.422821  30.422821\n",
              "298  32.695211  32.695211\n",
              "299  32.363289  32.363289\n",
              "\n",
              "[300 rows x 2 columns]"
            ],
            "text/html": [
              "\n",
              "  <div id=\"df-70006f69-3652-4e3f-a50f-cd3b5153b9ae\">\n",
              "    <div class=\"colab-df-container\">\n",
              "      <div>\n",
              "<style scoped>\n",
              "    .dataframe tbody tr th:only-of-type {\n",
              "        vertical-align: middle;\n",
              "    }\n",
              "\n",
              "    .dataframe tbody tr th {\n",
              "        vertical-align: top;\n",
              "    }\n",
              "\n",
              "    .dataframe thead th {\n",
              "        text-align: right;\n",
              "    }\n",
              "</style>\n",
              "<table border=\"1\" class=\"dataframe\">\n",
              "  <thead>\n",
              "    <tr style=\"text-align: right;\">\n",
              "      <th></th>\n",
              "      <th>Actual</th>\n",
              "      <th>Predicted</th>\n",
              "    </tr>\n",
              "  </thead>\n",
              "  <tbody>\n",
              "    <tr>\n",
              "      <th>0</th>\n",
              "      <td>31.188795</td>\n",
              "      <td>31.188795</td>\n",
              "    </tr>\n",
              "    <tr>\n",
              "      <th>1</th>\n",
              "      <td>32.593081</td>\n",
              "      <td>32.593081</td>\n",
              "    </tr>\n",
              "    <tr>\n",
              "      <th>2</th>\n",
              "      <td>32.873938</td>\n",
              "      <td>32.873938</td>\n",
              "    </tr>\n",
              "    <tr>\n",
              "      <th>3</th>\n",
              "      <td>31.776042</td>\n",
              "      <td>31.776042</td>\n",
              "    </tr>\n",
              "    <tr>\n",
              "      <th>4</th>\n",
              "      <td>32.861172</td>\n",
              "      <td>32.861172</td>\n",
              "    </tr>\n",
              "    <tr>\n",
              "      <th>...</th>\n",
              "      <td>...</td>\n",
              "      <td>...</td>\n",
              "    </tr>\n",
              "    <tr>\n",
              "      <th>295</th>\n",
              "      <td>33.027133</td>\n",
              "      <td>33.027133</td>\n",
              "    </tr>\n",
              "    <tr>\n",
              "      <th>296</th>\n",
              "      <td>32.286691</td>\n",
              "      <td>32.286691</td>\n",
              "    </tr>\n",
              "    <tr>\n",
              "      <th>297</th>\n",
              "      <td>30.422821</td>\n",
              "      <td>30.422821</td>\n",
              "    </tr>\n",
              "    <tr>\n",
              "      <th>298</th>\n",
              "      <td>32.695211</td>\n",
              "      <td>32.695211</td>\n",
              "    </tr>\n",
              "    <tr>\n",
              "      <th>299</th>\n",
              "      <td>32.363289</td>\n",
              "      <td>32.363289</td>\n",
              "    </tr>\n",
              "  </tbody>\n",
              "</table>\n",
              "<p>300 rows × 2 columns</p>\n",
              "</div>\n",
              "      <button class=\"colab-df-convert\" onclick=\"convertToInteractive('df-70006f69-3652-4e3f-a50f-cd3b5153b9ae')\"\n",
              "              title=\"Convert this dataframe to an interactive table.\"\n",
              "              style=\"display:none;\">\n",
              "        \n",
              "  <svg xmlns=\"http://www.w3.org/2000/svg\" height=\"24px\"viewBox=\"0 0 24 24\"\n",
              "       width=\"24px\">\n",
              "    <path d=\"M0 0h24v24H0V0z\" fill=\"none\"/>\n",
              "    <path d=\"M18.56 5.44l.94 2.06.94-2.06 2.06-.94-2.06-.94-.94-2.06-.94 2.06-2.06.94zm-11 1L8.5 8.5l.94-2.06 2.06-.94-2.06-.94L8.5 2.5l-.94 2.06-2.06.94zm10 10l.94 2.06.94-2.06 2.06-.94-2.06-.94-.94-2.06-.94 2.06-2.06.94z\"/><path d=\"M17.41 7.96l-1.37-1.37c-.4-.4-.92-.59-1.43-.59-.52 0-1.04.2-1.43.59L10.3 9.45l-7.72 7.72c-.78.78-.78 2.05 0 2.83L4 21.41c.39.39.9.59 1.41.59.51 0 1.02-.2 1.41-.59l7.78-7.78 2.81-2.81c.8-.78.8-2.07 0-2.86zM5.41 20L4 18.59l7.72-7.72 1.47 1.35L5.41 20z\"/>\n",
              "  </svg>\n",
              "      </button>\n",
              "      \n",
              "  <style>\n",
              "    .colab-df-container {\n",
              "      display:flex;\n",
              "      flex-wrap:wrap;\n",
              "      gap: 12px;\n",
              "    }\n",
              "\n",
              "    .colab-df-convert {\n",
              "      background-color: #E8F0FE;\n",
              "      border: none;\n",
              "      border-radius: 50%;\n",
              "      cursor: pointer;\n",
              "      display: none;\n",
              "      fill: #1967D2;\n",
              "      height: 32px;\n",
              "      padding: 0 0 0 0;\n",
              "      width: 32px;\n",
              "    }\n",
              "\n",
              "    .colab-df-convert:hover {\n",
              "      background-color: #E2EBFA;\n",
              "      box-shadow: 0px 1px 2px rgba(60, 64, 67, 0.3), 0px 1px 3px 1px rgba(60, 64, 67, 0.15);\n",
              "      fill: #174EA6;\n",
              "    }\n",
              "\n",
              "    [theme=dark] .colab-df-convert {\n",
              "      background-color: #3B4455;\n",
              "      fill: #D2E3FC;\n",
              "    }\n",
              "\n",
              "    [theme=dark] .colab-df-convert:hover {\n",
              "      background-color: #434B5C;\n",
              "      box-shadow: 0px 1px 3px 1px rgba(0, 0, 0, 0.15);\n",
              "      filter: drop-shadow(0px 1px 2px rgba(0, 0, 0, 0.3));\n",
              "      fill: #FFFFFF;\n",
              "    }\n",
              "  </style>\n",
              "\n",
              "      <script>\n",
              "        const buttonEl =\n",
              "          document.querySelector('#df-70006f69-3652-4e3f-a50f-cd3b5153b9ae button.colab-df-convert');\n",
              "        buttonEl.style.display =\n",
              "          google.colab.kernel.accessAllowed ? 'block' : 'none';\n",
              "\n",
              "        async function convertToInteractive(key) {\n",
              "          const element = document.querySelector('#df-70006f69-3652-4e3f-a50f-cd3b5153b9ae');\n",
              "          const dataTable =\n",
              "            await google.colab.kernel.invokeFunction('convertToInteractive',\n",
              "                                                     [key], {});\n",
              "          if (!dataTable) return;\n",
              "\n",
              "          const docLinkHtml = 'Like what you see? Visit the ' +\n",
              "            '<a target=\"_blank\" href=https://colab.research.google.com/notebooks/data_table.ipynb>data table notebook</a>'\n",
              "            + ' to learn more about interactive tables.';\n",
              "          element.innerHTML = '';\n",
              "          dataTable['output_type'] = 'display_data';\n",
              "          await google.colab.output.renderOutput(dataTable, element);\n",
              "          const docLink = document.createElement('div');\n",
              "          docLink.innerHTML = docLinkHtml;\n",
              "          element.appendChild(docLink);\n",
              "        }\n",
              "      </script>\n",
              "    </div>\n",
              "  </div>\n",
              "  "
            ]
          },
          "metadata": {},
          "execution_count": 16
        }
      ]
    },
    {
      "cell_type": "code",
      "source": [
        "from sklearn.metrics import mean_absolute_error,mean_squared_error,r2_score\n",
        "import numpy as np\n",
        "print('Mean Absolute Error:',mean_absolute_error(y_test,y_pred))\n",
        "print('Mean Squared Error:',mean_squared_error(y_test,y_pred))\n",
        "print('Root Mean squared error',np.sqrt(mean_squared_error(y_test,y_pred)))\n",
        "print('R2 Score:',r2_score(y_test,y_pred))"
      ],
      "metadata": {
        "colab": {
          "base_uri": "https://localhost:8080/"
        },
        "id": "xax0BsMAZ9eG",
        "outputId": "4b36f9b6-1196-4003-a345-b80020f5b78b"
      },
      "execution_count": 17,
      "outputs": [
        {
          "output_type": "stream",
          "name": "stdout",
          "text": [
            "Mean Absolute Error: 15.631080622127596\n",
            "Mean Squared Error: 371.09407300851694\n",
            "Root Mean squared error 19.26380214310033\n",
            "R2 Score: -0.0027930139819341004\n"
          ]
        }
      ]
    }
  ]
}